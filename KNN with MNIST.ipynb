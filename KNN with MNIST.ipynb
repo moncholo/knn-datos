{
 "cells": [
  {
   "cell_type": "code",
   "execution_count": 49,
   "metadata": {},
   "outputs": [
    {
     "name": "stdout",
     "output_type": "stream",
     "text": [
      "Populating the interactive namespace from numpy and matplotlib\n"
     ]
    }
   ],
   "source": [
    "from __future__ import print_function\n",
    "from sklearn.model_selection import train_test_split\n",
    "from sklearn.neighbors import KNeighborsClassifier\n",
    "from sklearn.metrics import classification_report\n",
    "from sklearn import datasets\n",
    "from skimage import exposure\n",
    "import numpy as np\n",
    "import imutils\n",
    "import cv2\n",
    "%pylab inline\n",
    "import matplotlib.pyplot as plt\n",
    "import matplotlib.image as mpimg\n",
    "from keras.datasets import mnist\n",
    "from sklearn.metrics import accuracy_score"
   ]
  },
  {
   "cell_type": "code",
   "execution_count": 50,
   "metadata": {},
   "outputs": [],
   "source": [
    "#Cargamos el set de datos de MNIST\n",
    "(trainData, trainLabels), (testData, testLabels) = mnist.load_data()\n",
    "\n",
    "trainData = trainData.reshape(60000, 784)\n",
    "testData = testData.reshape(10000, 784)\n",
    "\n",
    "#SOLO PORQUE ES UN EJEMPLO, VOY A TOMAR 5.000 REGISTROS PARA 'TRAIN' y 1.000 PARA TEST\n",
    "trainData = trainData[:5000]\n",
    "trainLabels = trainLabels[:5000]\n",
    "testData = testData[:1000]\n",
    "testLabels = testLabels[:1000]\n",
    "\n",
    "trainData = trainData.astype('float32')\n",
    "testData = testData.astype('float32')\n",
    "trainData /= 255\n",
    "testData /= 255"
   ]
  },
  {
   "cell_type": "code",
   "execution_count": 59,
   "metadata": {},
   "outputs": [
    {
     "name": "stdout",
     "output_type": "stream",
     "text": [
      "Ejemplos de imagenes del set de datos\n"
     ]
    },
    {
     "data": {
      "image/png": "[encoded data removed]",
      "text/plain": [
       "<matplotlib.figure.Figure at 0x1c2e0bd7b8>"
      ]
     },
     "metadata": {},
     "output_type": "display_data"
    },
    {
     "data": {
      "image/png": "[encoded data removed]",
      "text/plain": [
       "<matplotlib.figure.Figure at 0x1c388f2d30>"
      ]
     },
     "metadata": {},
     "output_type": "display_data"
    },
    {
     "name": "stdout",
     "output_type": "stream",
     "text": [
      "Puntos de tranData: 5000\n",
      "Puntos de testData: 1000\n"
     ]
    }
   ],
   "source": [
    "print(\"Ejemplos de imagenes del set de datos\")\n",
    "\n",
    "plt.imshow(np.array(trainData[1], dtype='float32').reshape((28, 28)), cmap='gray')\n",
    "plt.show()\n",
    "plt.imshow(np.array(trainData[2], dtype='float32').reshape((28, 28)), cmap='gray')\n",
    "plt.show()\n",
    "\n",
    "print(\"Puntos de tranData: {}\".format(len(trainLabels)))\n",
    "print(\"Puntos de testData: {}\".format(len(testLabels)))\n"
   ]
  },
  {
   "cell_type": "code",
   "execution_count": 52,
   "metadata": {},
   "outputs": [
    {
     "name": "stdout",
     "output_type": "stream",
     "text": [
      "k=1, accuracy=100.00%\n",
      "k=3, accuracy=96.30%\n",
      "k=5, accuracy=95.30%\n",
      "k=7, accuracy=94.20%\n",
      "k=9, accuracy=94.00%\n",
      "k=11, accuracy=93.40%\n",
      "k=13, accuracy=92.90%\n",
      "k=15, accuracy=92.10%\n",
      "k=17, accuracy=91.50%\n",
      "k=19, accuracy=91.60%\n",
      "k=21, accuracy=91.30%\n",
      "k=23, accuracy=91.70%\n",
      "k=25, accuracy=91.40%\n",
      "k=27, accuracy=90.90%\n",
      "k=29, accuracy=91.00%\n",
      "k=31, accuracy=90.70%\n",
      "k=33, accuracy=90.50%\n",
      "k=35, accuracy=90.50%\n",
      "k=37, accuracy=90.30%\n",
      "k=39, accuracy=89.50%\n",
      "k=41, accuracy=89.30%\n",
      "k=43, accuracy=89.00%\n",
      "k=45, accuracy=88.90%\n",
      "k=47, accuracy=88.60%\n",
      "k=49, accuracy=88.40%\n",
      "k=51, accuracy=87.80%\n",
      "k=53, accuracy=87.60%\n",
      "k=55, accuracy=87.60%\n",
      "k=57, accuracy=87.40%\n",
      "k=59, accuracy=87.20%\n"
     ]
    }
   ],
   "source": [
    "# Lista de valores de K impares (1,3,5,7,9..39)\n",
    "kVals = range(1, 60, 2)\n",
    "accuracies = []\n",
    "\n",
    "#En este loop vamos a ver la precision del algoritmo en funcion de K\n",
    "\n",
    "for k in kVals:\n",
    "    #Inicializacion del modelo\n",
    "    model = KNeighborsClassifier(n_neighbors=k)\n",
    "    model.fit(trainData, trainLabels)\n",
    "\n",
    "    #A diferencia de otros algoritmos, en KNN no es necesario usar un set de validacion sino que se pueden usar los mismos datos\n",
    "    score = model.score(trainData[:1000], trainLabels[:1000])\n",
    "    print(\"k=%d, accuracy=%.2f%%\" % (k, score * 100))\n",
    "    accuracies.append(score)"
   ]
  },
  {
   "cell_type": "code",
   "execution_count": 53,
   "metadata": {},
   "outputs": [
    {
     "data": {
      "image/png": "[encoded data removed]",
      "text/plain": [
       "<matplotlib.figure.Figure at 0x1c2db90400>"
      ]
     },
     "metadata": {},
     "output_type": "display_data"
    }
   ],
   "source": [
    "#Grafico la precisión vs el valor de K\n",
    "plt.plot(kVals, accuracies)\n",
    "plt.ylabel('Accuracy')\n",
    "plt.xlabel('K')\n",
    "plt.title('Accuracy vs K')\n",
    "plt.show()"
   ]
  },
  {
   "cell_type": "code",
   "execution_count": 54,
   "metadata": {},
   "outputs": [
    {
     "name": "stdout",
     "output_type": "stream",
     "text": [
      "Accuracy para el set de Test: 90.70%\n"
     ]
    }
   ],
   "source": [
    "# Podemos probar con K=7\n",
    "model = KNeighborsClassifier(n_neighbors=7)\n",
    "model.fit(trainData, trainLabels)\n",
    "\n",
    "predictions = model.predict(testData)\n",
    "\n",
    "print(\"Accuracy para el set de Test: %.2f%%\" % (100 * accuracy_score(testLabels, predictions)))\n"
   ]
  },
  {
   "cell_type": "code",
   "execution_count": 55,
   "metadata": {},
   "outputs": [
    {
     "name": "stdout",
     "output_type": "stream",
     "text": [
      "La predicción para este dígito es: [4]\n"
     ]
    },
    {
     "data": {
      "image/png": "[encoded data removed]",
      "text/plain": [
       "<matplotlib.figure.Figure at 0x1c2dae5278>"
      ]
     },
     "metadata": {},
     "output_type": "display_data"
    },
    {
     "name": "stdout",
     "output_type": "stream",
     "text": [
      "La predicción para este dígito es: [1]\n"
     ]
    },
    {
     "data": {
      "image/png": "[encoded data removed]",
      "text/plain": [
       "<matplotlib.figure.Figure at 0x1c2dd7a128>"
      ]
     },
     "metadata": {},
     "output_type": "display_data"
    },
    {
     "name": "stdout",
     "output_type": "stream",
     "text": [
      "La predicción para este dígito es: [2]\n"
     ]
    },
    {
     "data": {
      "image/png": "[encoded data removed]",
      "text/plain": [
       "<matplotlib.figure.Figure at 0x1c2d7874a8>"
      ]
     },
     "metadata": {},
     "output_type": "display_data"
    },
    {
     "name": "stdout",
     "output_type": "stream",
     "text": [
      "La predicción para este dígito es: [4]\n"
     ]
    },
    {
     "data": {
      "image/png": "[encoded data removed]",
      "text/plain": [
       "<matplotlib.figure.Figure at 0x1c2d891358>"
      ]
     },
     "metadata": {},
     "output_type": "display_data"
    },
    {
     "name": "stdout",
     "output_type": "stream",
     "text": [
      "La predicción para este dígito es: [8]\n"
     ]
    },
    {
     "data": {
      "image/png": "[encoded data removed]",
      "text/plain": [
       "<matplotlib.figure.Figure at 0x1c2d8cbcc0>"
      ]
     },
     "metadata": {},
     "output_type": "display_data"
    }
   ],
   "source": [
    "#  Probamos la clasificación con algunas imagenes de ejemplo\n",
    "# La idea es agarrar algunas imagenes random, clasificarlas y ver si la clasificacion es correcta o no\n",
    "for i in np.random.randint(0, high=len(testLabels), size=(5,)):\n",
    "    image = testData[i]\n",
    "    prediction = model.predict([image])\n",
    "\n",
    "    print(\"La predicción para este dígito es: {}\".format(prediction))\n",
    "\n",
    "    pixels = np.array(image, dtype='float32')\n",
    "\n",
    "    # Reshape the array into 28 x 28 array (2-dimensional array)\n",
    "    pixels = pixels.reshape((28, 28))\n",
    "\n",
    "    # Plot\n",
    "    plt.imshow(pixels, cmap='gray')\n",
    "    plt.show()\n"
   ]
  },
  {
   "cell_type": "code",
   "execution_count": null,
   "metadata": {},
   "outputs": [],
   "source": []
  }
 ],
 "metadata": {
  "kernelspec": {
   "display_name": "Python 3",
   "language": "python",
   "name": "python3"
  },
  "language_info": {
   "codemirror_mode": {
    "name": "ipython",
    "version": 3
   },
   "file_extension": ".py",
   "mimetype": "text/x-python",
   "name": "python",
   "nbconvert_exporter": "python",
   "pygments_lexer": "ipython3",
   "version": "3.6.4"
  }
 },
 "nbformat": 4,
 "nbformat_minor": 2
}
